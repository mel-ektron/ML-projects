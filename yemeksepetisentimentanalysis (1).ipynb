{
 "cells": [
  {
   "cell_type": "code",
   "execution_count": 1,
   "id": "823b98af-ec24-40e8-bd81-928de772a580",
   "metadata": {},
   "outputs": [
    {
     "data": {
      "text/html": [
       "<div>\n",
       "<style scoped>\n",
       "    .dataframe tbody tr th:only-of-type {\n",
       "        vertical-align: middle;\n",
       "    }\n",
       "\n",
       "    .dataframe tbody tr th {\n",
       "        vertical-align: top;\n",
       "    }\n",
       "\n",
       "    .dataframe thead th {\n",
       "        text-align: right;\n",
       "    }\n",
       "</style>\n",
       "<table border=\"1\" class=\"dataframe\">\n",
       "  <thead>\n",
       "    <tr style=\"text-align: right;\">\n",
       "      <th></th>\n",
       "      <th>yorum</th>\n",
       "      <th>hiz</th>\n",
       "      <th>servis</th>\n",
       "      <th>lezzet</th>\n",
       "    </tr>\n",
       "  </thead>\n",
       "  <tbody>\n",
       "    <tr>\n",
       "      <th>0</th>\n",
       "      <td>Enfes tat...</td>\n",
       "      <td>Hız: 10</td>\n",
       "      <td>Servis: 10</td>\n",
       "      <td>Lezzet: 10</td>\n",
       "    </tr>\n",
       "    <tr>\n",
       "      <th>1</th>\n",
       "      <td>Herşey harikaydı çok beğendik.</td>\n",
       "      <td>Hız: 10</td>\n",
       "      <td>Servis: 10</td>\n",
       "      <td>Lezzet: 10</td>\n",
       "    </tr>\n",
       "    <tr>\n",
       "      <th>2</th>\n",
       "      <td>Wonton çorbasını aşırı beğendik, tavsiye ederim.</td>\n",
       "      <td>Hız: 8</td>\n",
       "      <td>Servis: 8</td>\n",
       "      <td>Lezzet: 9</td>\n",
       "    </tr>\n",
       "    <tr>\n",
       "      <th>3</th>\n",
       "      <td>Soya sosu konulmamıstı...</td>\n",
       "      <td>Hız: 5</td>\n",
       "      <td>Servis: 1</td>\n",
       "      <td>Lezzet: 1</td>\n",
       "    </tr>\n",
       "    <tr>\n",
       "      <th>4</th>\n",
       "      <td>Et yok gibi biseydi :).</td>\n",
       "      <td>Hız: 6</td>\n",
       "      <td>Servis: 6</td>\n",
       "      <td>Lezzet: 1</td>\n",
       "    </tr>\n",
       "  </tbody>\n",
       "</table>\n",
       "</div>"
      ],
      "text/plain": [
       "                                              yorum        hiz        servis  \\\n",
       "0                                      Enfes tat...   Hız: 10    Servis: 10    \n",
       "1                    Herşey harikaydı çok beğendik.   Hız: 10    Servis: 10    \n",
       "2  Wonton çorbasını aşırı beğendik, tavsiye ederim.    Hız: 8     Servis: 8    \n",
       "3                         Soya sosu konulmamıstı...    Hız: 5     Servis: 1    \n",
       "4                           Et yok gibi biseydi :).    Hız: 6     Servis: 6    \n",
       "\n",
       "         lezzet  \n",
       "0   Lezzet: 10   \n",
       "1   Lezzet: 10   \n",
       "2    Lezzet: 9   \n",
       "3    Lezzet: 1   \n",
       "4    Lezzet: 1   "
      ]
     },
     "execution_count": 1,
     "metadata": {},
     "output_type": "execute_result"
    }
   ],
   "source": [
    "import pandas as pd\n",
    "data = pd.read_csv(r'C:\\Users\\canan\\yemeklerin_sepeti.csv')\n",
    "data.head()"
   ]
  },
  {
   "cell_type": "code",
   "execution_count": 2,
   "id": "0cdc49b7-5235-438e-a22d-e56c531aefc1",
   "metadata": {},
   "outputs": [
    {
     "name": "stdout",
     "output_type": "stream",
     "text": [
      "Index(['yorum', 'hiz', 'servis', 'lezzet'], dtype='object')\n"
     ]
    }
   ],
   "source": [
    "print(data.columns)"
   ]
  },
  {
   "cell_type": "code",
   "execution_count": 3,
   "id": "35b20b9a-b960-4364-b8f8-93983a401872",
   "metadata": {},
   "outputs": [
    {
     "data": {
      "text/html": [
       "<div>\n",
       "<style scoped>\n",
       "    .dataframe tbody tr th:only-of-type {\n",
       "        vertical-align: middle;\n",
       "    }\n",
       "\n",
       "    .dataframe tbody tr th {\n",
       "        vertical-align: top;\n",
       "    }\n",
       "\n",
       "    .dataframe thead th {\n",
       "        text-align: right;\n",
       "    }\n",
       "</style>\n",
       "<table border=\"1\" class=\"dataframe\">\n",
       "  <thead>\n",
       "    <tr style=\"text-align: right;\">\n",
       "      <th></th>\n",
       "      <th>yorum</th>\n",
       "      <th>hiz</th>\n",
       "      <th>servis</th>\n",
       "      <th>lezzet</th>\n",
       "    </tr>\n",
       "  </thead>\n",
       "  <tbody>\n",
       "    <tr>\n",
       "      <th>0</th>\n",
       "      <td>Enfes tat...</td>\n",
       "      <td>Hız: 10</td>\n",
       "      <td>Servis: 10</td>\n",
       "      <td>Lezzet: 10</td>\n",
       "    </tr>\n",
       "    <tr>\n",
       "      <th>1</th>\n",
       "      <td>Herşey harikaydı çok beğendik.</td>\n",
       "      <td>Hız: 10</td>\n",
       "      <td>Servis: 10</td>\n",
       "      <td>Lezzet: 10</td>\n",
       "    </tr>\n",
       "    <tr>\n",
       "      <th>2</th>\n",
       "      <td>Wonton çorbasını aşırı beğendik, tavsiye ederim.</td>\n",
       "      <td>Hız: 8</td>\n",
       "      <td>Servis: 8</td>\n",
       "      <td>Lezzet: 9</td>\n",
       "    </tr>\n",
       "    <tr>\n",
       "      <th>3</th>\n",
       "      <td>Soya sosu konulmamıstı...</td>\n",
       "      <td>Hız: 5</td>\n",
       "      <td>Servis: 1</td>\n",
       "      <td>Lezzet: 1</td>\n",
       "    </tr>\n",
       "    <tr>\n",
       "      <th>4</th>\n",
       "      <td>Et yok gibi biseydi :).</td>\n",
       "      <td>Hız: 6</td>\n",
       "      <td>Servis: 6</td>\n",
       "      <td>Lezzet: 1</td>\n",
       "    </tr>\n",
       "  </tbody>\n",
       "</table>\n",
       "</div>"
      ],
      "text/plain": [
       "                                              yorum        hiz        servis  \\\n",
       "0                                      Enfes tat...   Hız: 10    Servis: 10    \n",
       "1                    Herşey harikaydı çok beğendik.   Hız: 10    Servis: 10    \n",
       "2  Wonton çorbasını aşırı beğendik, tavsiye ederim.    Hız: 8     Servis: 8    \n",
       "3                         Soya sosu konulmamıstı...    Hız: 5     Servis: 1    \n",
       "4                           Et yok gibi biseydi :).    Hız: 6     Servis: 6    \n",
       "\n",
       "         lezzet  \n",
       "0   Lezzet: 10   \n",
       "1   Lezzet: 10   \n",
       "2    Lezzet: 9   \n",
       "3    Lezzet: 1   \n",
       "4    Lezzet: 1   "
      ]
     },
     "execution_count": 3,
     "metadata": {},
     "output_type": "execute_result"
    }
   ],
   "source": [
    "df=data[['yorum','hiz','servis','lezzet']]\n",
    "df.head()"
   ]
  },
  {
   "cell_type": "code",
   "execution_count": 4,
   "id": "880d80d2-98f5-4840-a650-193347f9f1cd",
   "metadata": {},
   "outputs": [
    {
     "data": {
      "text/plain": [
       "(24903, 4)"
      ]
     },
     "execution_count": 4,
     "metadata": {},
     "output_type": "execute_result"
    }
   ],
   "source": [
    "df.shape"
   ]
  },
  {
   "cell_type": "code",
   "execution_count": 5,
   "id": "f98cf12f-479a-49f1-918a-5f04e51e2525",
   "metadata": {},
   "outputs": [
    {
     "data": {
      "text/plain": [
       "yorum        0\n",
       "hiz       7201\n",
       "servis    9001\n",
       "lezzet    9001\n",
       "dtype: int64"
      ]
     },
     "execution_count": 5,
     "metadata": {},
     "output_type": "execute_result"
    }
   ],
   "source": [
    "df.isnull().sum()F"
   ]
  },
  {
   "cell_type": "code",
   "execution_count": 6,
   "id": "98c7b60c-ec2f-4624-adbd-7cf9506747c8",
   "metadata": {},
   "outputs": [
    {
     "data": {
      "text/plain": [
       "array([' Lezzet: 10 ', ' Lezzet: 9 ', ' Lezzet: 1 ', ' Lezzet: 8 ',\n",
       "       ' Lezzet: 4 ', nan, ' Lezzet: 7 ', ' Lezzet: 6 ', ' Lezzet: 5 ',\n",
       "       ' Lezzet: 2 ', ' Lezzet: 3 ', '  Lezzet: 10 ', '  Lezzet: 6 ',\n",
       "       '  Lezzet: 3 ', '  Lezzet: 8 '], dtype=object)"
      ]
     },
     "execution_count": 6,
     "metadata": {},
     "output_type": "execute_result"
    }
   ],
   "source": [
    "\n",
    "df['lezzet'].unique()"
   ]
  },
  {
   "cell_type": "code",
   "execution_count": 7,
   "id": "cf554b99-07e4-42b5-a40c-aafd9ec547bc",
   "metadata": {},
   "outputs": [
    {
     "data": {
      "text/plain": [
       "array([' Hız: 10 ', ' Hız: 8 ', ' Hız: 5 ', ' Hız: 6 ', ' Hız: 9 ', nan,\n",
       "       ' Hız: 1 ', ' Hız: 3 ', ' Hız: 7 ', ' Hız: 2 ', ' Hız: 4 ',\n",
       "       '\\nHız: 10 ', ' Restoran Puanı: 10 ', ' Restoran Puanı: 1 ',\n",
       "       ' Restoran Puanı: 5 ', ' H��z: 9 ', ' Restoran Puanı: 9 ',\n",
       "       ' Restoran Puanı: 6 ', ' Restoran Puanı: 8 ',\n",
       "       ' Restoran Puanı: 7 ', ' Restoran Puanı: 4 ',\n",
       "       ' Restoran Puanı: 3 '], dtype=object)"
      ]
     },
     "execution_count": 7,
     "metadata": {},
     "output_type": "execute_result"
    }
   ],
   "source": [
    "df['hiz'].unique()"
   ]
  },
  {
   "cell_type": "code",
   "execution_count": 8,
   "id": "8673eae6-6ccd-46fe-a935-8688030ebd9d",
   "metadata": {},
   "outputs": [
    {
     "data": {
      "text/plain": [
       "array([' Servis: 10 ', ' Servis: 8 ', ' Servis: 1 ', ' Servis: 6 ',\n",
       "       ' Servis: 5 ', ' Servis: 9 ', nan, ' Servis: 7 ', ' Servis: 2 ',\n",
       "       ' Servis: 3 ', ' Servis: 4 ', '  Servis: 10 ', '  Servis: 1 ',\n",
       "       '  Servis: 3 '], dtype=object)"
      ]
     },
     "execution_count": 8,
     "metadata": {},
     "output_type": "execute_result"
    }
   ],
   "source": [
    "df['servis'].unique()"
   ]
  },
  {
   "cell_type": "code",
   "execution_count": 9,
   "id": "c97607bd-e754-4bce-895d-11d7aa0d773b",
   "metadata": {},
   "outputs": [
    {
     "data": {
      "text/plain": [
       "lezzet\n",
       "Lezzet: 10      9341\n",
       "Lezzet: 9       1799\n",
       "Lezzet: 1       1360\n",
       "Lezzet: 8       1069\n",
       "Lezzet: 7        626\n",
       "Lezzet: 6        493\n",
       "Lezzet: 5        401\n",
       "Lezzet: 3        343\n",
       "Lezzet: 2        256\n",
       "Lezzet: 4        199\n",
       " Lezzet: 10       12\n",
       " Lezzet: 6         1\n",
       " Lezzet: 3         1\n",
       " Lezzet: 8         1\n",
       "Name: count, dtype: int64"
      ]
     },
     "execution_count": 9,
     "metadata": {},
     "output_type": "execute_result"
    }
   ],
   "source": [
    "df['lezzet'].value_counts()"
   ]
  },
  {
   "cell_type": "code",
   "execution_count": 10,
   "id": "c7576d8f-fb0b-45ed-bffb-aa44590e3fc2",
   "metadata": {},
   "outputs": [
    {
     "data": {
      "text/plain": [
       "(servis\n",
       " Servis: 10      9702\n",
       " Servis: 9       2141\n",
       " Servis: 1       1284\n",
       " Servis: 8        920\n",
       " Servis: 7        567\n",
       " Servis: 6        396\n",
       " Servis: 5        358\n",
       " Servis: 2        186\n",
       " Servis: 3        184\n",
       " Servis: 4        132\n",
       "  Servis: 3        20\n",
       "  Servis: 10       11\n",
       "  Servis: 1         1\n",
       " Name: count, dtype: int64,)"
      ]
     },
     "execution_count": 10,
     "metadata": {},
     "output_type": "execute_result"
    }
   ],
   "source": [
    "df['servis'].value_counts(),"
   ]
  },
  {
   "cell_type": "code",
   "execution_count": 11,
   "id": "32838c9c-5b18-4137-9403-c8e283aaf877",
   "metadata": {},
   "outputs": [
    {
     "data": {
      "text/plain": [
       "hiz\n",
       " Hız: 10                10165\n",
       " Hız: 9                  2116\n",
       " Restoran Puanı: 10      1180\n",
       " Hız: 8                  1141\n",
       " Hız: 1                  1093\n",
       " Hız: 7                   552\n",
       " Hız: 6                   281\n",
       " Hız: 5                   238\n",
       " Restoran Puanı: 8        140\n",
       " Restoran Puanı: 9        120\n",
       " Restoran Puanı: 1        120\n",
       " Hız: 3                   115\n",
       " Hız: 4                   104\n",
       " Hız: 2                    94\n",
       " Restoran Puanı: 7         80\n",
       " Restoran Puanı: 6         80\n",
       " Restoran Puanı: 5         40\n",
       " Restoran Puanı: 3         20\n",
       " Restoran Puanı: 4         20\n",
       "\\nHız: 10                   2\n",
       " H��z: 9                    1\n",
       "Name: count, dtype: int64"
      ]
     },
     "execution_count": 11,
     "metadata": {},
     "output_type": "execute_result"
    }
   ],
   "source": [
    "df['hiz'].value_counts()"
   ]
  },
  {
   "cell_type": "code",
   "execution_count": 12,
   "id": "44687cdf-d119-4e9a-8854-9c3a7fdd1f08",
   "metadata": {},
   "outputs": [
    {
     "name": "stdout",
     "output_type": "stream",
     "text": [
      "0     10 \n",
      "1     10 \n",
      "2      8 \n",
      "3      5 \n",
      "4      6 \n",
      "Name: hiz, dtype: object\n"
     ]
    },
    {
     "data": {
      "text/html": [
       "<div>\n",
       "<style scoped>\n",
       "    .dataframe tbody tr th:only-of-type {\n",
       "        vertical-align: middle;\n",
       "    }\n",
       "\n",
       "    .dataframe tbody tr th {\n",
       "        vertical-align: top;\n",
       "    }\n",
       "\n",
       "    .dataframe thead th {\n",
       "        text-align: right;\n",
       "    }\n",
       "</style>\n",
       "<table border=\"1\" class=\"dataframe\">\n",
       "  <thead>\n",
       "    <tr style=\"text-align: right;\">\n",
       "      <th></th>\n",
       "      <th>yorum</th>\n",
       "      <th>hiz</th>\n",
       "      <th>servis</th>\n",
       "      <th>lezzet</th>\n",
       "    </tr>\n",
       "  </thead>\n",
       "  <tbody>\n",
       "    <tr>\n",
       "      <th>0</th>\n",
       "      <td>Enfes tat...</td>\n",
       "      <td>10</td>\n",
       "      <td>10</td>\n",
       "      <td>10</td>\n",
       "    </tr>\n",
       "    <tr>\n",
       "      <th>1</th>\n",
       "      <td>Herşey harikaydı çok beğendik.</td>\n",
       "      <td>10</td>\n",
       "      <td>10</td>\n",
       "      <td>10</td>\n",
       "    </tr>\n",
       "    <tr>\n",
       "      <th>2</th>\n",
       "      <td>Wonton çorbasını aşırı beğendik, tavsiye ederim.</td>\n",
       "      <td>8</td>\n",
       "      <td>8</td>\n",
       "      <td>9</td>\n",
       "    </tr>\n",
       "    <tr>\n",
       "      <th>3</th>\n",
       "      <td>Soya sosu konulmamıstı...</td>\n",
       "      <td>5</td>\n",
       "      <td>1</td>\n",
       "      <td>1</td>\n",
       "    </tr>\n",
       "    <tr>\n",
       "      <th>4</th>\n",
       "      <td>Et yok gibi biseydi :).</td>\n",
       "      <td>6</td>\n",
       "      <td>6</td>\n",
       "      <td>1</td>\n",
       "    </tr>\n",
       "    <tr>\n",
       "      <th>...</th>\n",
       "      <td>...</td>\n",
       "      <td>...</td>\n",
       "      <td>...</td>\n",
       "      <td>...</td>\n",
       "    </tr>\n",
       "    <tr>\n",
       "      <th>24898</th>\n",
       "      <td>Afiyet olsun size giden siparişte bir sorun ol...</td>\n",
       "      <td>nan</td>\n",
       "      <td>nan</td>\n",
       "      <td>nan</td>\n",
       "    </tr>\n",
       "    <tr>\n",
       "      <th>24899</th>\n",
       "      <td>Lezzetli buluyorum ama eskiye göre krep boyutl...</td>\n",
       "      <td>9</td>\n",
       "      <td>9</td>\n",
       "      <td>9</td>\n",
       "    </tr>\n",
       "    <tr>\n",
       "      <th>24900</th>\n",
       "      <td>Teşekkür ederiz bir dahaki siparişinizde not k...</td>\n",
       "      <td>nan</td>\n",
       "      <td>nan</td>\n",
       "      <td>nan</td>\n",
       "    </tr>\n",
       "    <tr>\n",
       "      <th>24901</th>\n",
       "      <td>Mükemmel lezzetli bunle waffler! Ellerinize sa...</td>\n",
       "      <td>10</td>\n",
       "      <td>10</td>\n",
       "      <td>10</td>\n",
       "    </tr>\n",
       "    <tr>\n",
       "      <th>24902</th>\n",
       "      <td>Teşekkür ederiz afiyet olsun :).</td>\n",
       "      <td>nan</td>\n",
       "      <td>nan</td>\n",
       "      <td>nan</td>\n",
       "    </tr>\n",
       "  </tbody>\n",
       "</table>\n",
       "<p>24903 rows × 4 columns</p>\n",
       "</div>"
      ],
      "text/plain": [
       "                                                   yorum   hiz servis lezzet\n",
       "0                                           Enfes tat...   10     10     10 \n",
       "1                         Herşey harikaydı çok beğendik.   10     10     10 \n",
       "2       Wonton çorbasını aşırı beğendik, tavsiye ederim.    8      8      9 \n",
       "3                              Soya sosu konulmamıstı...    5      1      1 \n",
       "4                                Et yok gibi biseydi :).    6      6      1 \n",
       "...                                                  ...   ...    ...    ...\n",
       "24898  Afiyet olsun size giden siparişte bir sorun ol...   nan    nan    nan\n",
       "24899  Lezzetli buluyorum ama eskiye göre krep boyutl...    9      9      9 \n",
       "24900  Teşekkür ederiz bir dahaki siparişinizde not k...   nan    nan    nan\n",
       "24901  Mükemmel lezzetli bunle waffler! Ellerinize sa...   10     10     10 \n",
       "24902                   Teşekkür ederiz afiyet olsun :).   nan    nan    nan\n",
       "\n",
       "[24903 rows x 4 columns]"
      ]
     },
     "execution_count": 12,
     "metadata": {},
     "output_type": "execute_result"
    }
   ],
   "source": [
    "import re\n",
    "\n",
    "# \"Hız:\", \"Servis:\", \"Lezzet:\" gibi ifadeleri temizleme\n",
    "data['hiz'] = data['hiz'].apply(lambda x: re.sub(r'(Hız: )', '', str(x)))\n",
    "\n",
    "# Temizlenmiş ilk birkaç yorumu kontrol et\n",
    "print(data['hiz'].head())\n",
    "data['servis'] = data['servis'].apply(lambda x: re.sub(r'(Servis: )', '', str(x)))\n",
    "data['lezzet'] = data['lezzet'].apply(lambda x: re.sub(r'(Lezzet: )', '', str(x)))\n",
    "data"
   ]
  },
  {
   "cell_type": "code",
   "execution_count": 13,
   "id": "7f27368d-0cb4-4b9f-bf51-af5da57704c0",
   "metadata": {},
   "outputs": [
    {
     "name": "stdout",
     "output_type": "stream",
     "text": [
      "object\n"
     ]
    }
   ],
   "source": [
    "print(df['hiz'].dtype)"
   ]
  },
  {
   "cell_type": "code",
   "execution_count": 14,
   "id": "5a1e285a-d9a5-44a9-a27c-77f2b4f14350",
   "metadata": {},
   "outputs": [
    {
     "name": "stdout",
     "output_type": "stream",
     "text": [
      "hiz\n",
      "1    23337\n",
      "0     1566\n",
      "Name: count, dtype: int64\n"
     ]
    },
    {
     "name": "stderr",
     "output_type": "stream",
     "text": [
      "<>:2: SyntaxWarning: invalid escape sequence '\\d'\n",
      "<>:2: SyntaxWarning: invalid escape sequence '\\d'\n",
      "C:\\Users\\canan\\AppData\\Local\\Temp\\ipykernel_26884\\3694370173.py:2: SyntaxWarning: invalid escape sequence '\\d'\n",
      "  df['hiz'] = df['hiz'].str.extract('(\\d+)', expand=False).astype(float)\n"
     ]
    }
   ],
   "source": [
    "# \"Hız: \", \"Servis: \", \"Lezzet: \" gibi ifadelerden sayıları almak\n",
    "df['hiz'] = df['hiz'].str.extract('(\\d+)', expand=False).astype(float)\n",
    "\n",
    "# Koşullu işlem: Hız 5'ten küçükse 0, değilse 1 yapma\n",
    "df['hiz'] = df['hiz'].apply(lambda x: 0 if x < 5 else 1)\n",
    "\n",
    "# Sonuçları kontrol etme\n",
    "print(df['hiz'].value_counts())\n"
   ]
  },
  {
   "cell_type": "code",
   "execution_count": 15,
   "id": "b57a6760-ba2e-46d0-a1a4-7aeb6e808f04",
   "metadata": {},
   "outputs": [
    {
     "name": "stdout",
     "output_type": "stream",
     "text": [
      "servis\n",
      "1    23096\n",
      "0     1807\n",
      "Name: count, dtype: int64\n"
     ]
    },
    {
     "name": "stderr",
     "output_type": "stream",
     "text": [
      "<>:2: SyntaxWarning: invalid escape sequence '\\d'\n",
      "<>:2: SyntaxWarning: invalid escape sequence '\\d'\n",
      "C:\\Users\\canan\\AppData\\Local\\Temp\\ipykernel_26884\\4116177734.py:2: SyntaxWarning: invalid escape sequence '\\d'\n",
      "  df['servis'] = df['servis'].str.extract('(\\d+)', expand=False).astype(float)\n"
     ]
    }
   ],
   "source": [
    "# \"Hız: \", \"Servis: \", \"Lezzet: \" gibi ifadelerden sayıları almak\n",
    "df['servis'] = df['servis'].str.extract('(\\d+)', expand=False).astype(float)\n",
    "\n",
    "# Koşullu işlem: Hız 5'ten küçükse 0, değilse 1 yapma\n",
    "df['servis'] = df['servis'].apply(lambda x: 0 if x < 5 else 1)\n",
    "\n",
    "# Sonuçları kontrol etme\n",
    "print(df['servis'].value_counts())"
   ]
  },
  {
   "cell_type": "code",
   "execution_count": 16,
   "id": "5513b2b3-c761-4198-a08a-6ac244a7b05d",
   "metadata": {},
   "outputs": [
    {
     "name": "stdout",
     "output_type": "stream",
     "text": [
      "lezzet\n",
      "1    22744\n",
      "0     2159\n",
      "Name: count, dtype: int64\n"
     ]
    },
    {
     "name": "stderr",
     "output_type": "stream",
     "text": [
      "<>:2: SyntaxWarning: invalid escape sequence '\\d'\n",
      "<>:2: SyntaxWarning: invalid escape sequence '\\d'\n",
      "C:\\Users\\canan\\AppData\\Local\\Temp\\ipykernel_26884\\744091201.py:2: SyntaxWarning: invalid escape sequence '\\d'\n",
      "  df['lezzet'] = df['lezzet'].str.extract('(\\d+)', expand=False).astype(float)\n"
     ]
    }
   ],
   "source": [
    "# \"Hız: \", \"Servis: \", \"Lezzet: \" gibi ifadelerden sayıları almak\n",
    "df['lezzet'] = df['lezzet'].str.extract('(\\d+)', expand=False).astype(float)\n",
    "\n",
    "# Koşullu işlem: Hız 5'ten küçükse 0, değilse 1 yapma\n",
    "df['lezzet'] = df['lezzet'].apply(lambda x: 0 if x < 5 else 1)\n",
    "\n",
    "# Sonuçları kontrol etme\n",
    "print(df['lezzet'].value_counts())"
   ]
  },
  {
   "cell_type": "code",
   "execution_count": 17,
   "id": "772f8554-50a3-45e5-b54b-d056bace52d5",
   "metadata": {},
   "outputs": [
    {
     "data": {
      "text/html": [
       "<div>\n",
       "<style scoped>\n",
       "    .dataframe tbody tr th:only-of-type {\n",
       "        vertical-align: middle;\n",
       "    }\n",
       "\n",
       "    .dataframe tbody tr th {\n",
       "        vertical-align: top;\n",
       "    }\n",
       "\n",
       "    .dataframe thead th {\n",
       "        text-align: right;\n",
       "    }\n",
       "</style>\n",
       "<table border=\"1\" class=\"dataframe\">\n",
       "  <thead>\n",
       "    <tr style=\"text-align: right;\">\n",
       "      <th></th>\n",
       "      <th>yorum</th>\n",
       "      <th>hiz</th>\n",
       "      <th>servis</th>\n",
       "      <th>lezzet</th>\n",
       "    </tr>\n",
       "  </thead>\n",
       "  <tbody>\n",
       "    <tr>\n",
       "      <th>0</th>\n",
       "      <td>Enfes tat...</td>\n",
       "      <td>1</td>\n",
       "      <td>1</td>\n",
       "      <td>1</td>\n",
       "    </tr>\n",
       "    <tr>\n",
       "      <th>1</th>\n",
       "      <td>Herşey harikaydı çok beğendik.</td>\n",
       "      <td>1</td>\n",
       "      <td>1</td>\n",
       "      <td>1</td>\n",
       "    </tr>\n",
       "    <tr>\n",
       "      <th>2</th>\n",
       "      <td>Wonton çorbasını aşırı beğendik, tavsiye ederim.</td>\n",
       "      <td>1</td>\n",
       "      <td>1</td>\n",
       "      <td>1</td>\n",
       "    </tr>\n",
       "    <tr>\n",
       "      <th>3</th>\n",
       "      <td>Soya sosu konulmamıstı...</td>\n",
       "      <td>1</td>\n",
       "      <td>0</td>\n",
       "      <td>0</td>\n",
       "    </tr>\n",
       "    <tr>\n",
       "      <th>4</th>\n",
       "      <td>Et yok gibi biseydi :).</td>\n",
       "      <td>1</td>\n",
       "      <td>1</td>\n",
       "      <td>0</td>\n",
       "    </tr>\n",
       "  </tbody>\n",
       "</table>\n",
       "</div>"
      ],
      "text/plain": [
       "                                              yorum  hiz  servis  lezzet\n",
       "0                                      Enfes tat...    1       1       1\n",
       "1                    Herşey harikaydı çok beğendik.    1       1       1\n",
       "2  Wonton çorbasını aşırı beğendik, tavsiye ederim.    1       1       1\n",
       "3                         Soya sosu konulmamıstı...    1       0       0\n",
       "4                           Et yok gibi biseydi :).    1       1       0"
      ]
     },
     "execution_count": 17,
     "metadata": {},
     "output_type": "execute_result"
    }
   ],
   "source": [
    "df.head()"
   ]
  },
  {
   "cell_type": "code",
   "execution_count": 18,
   "id": "045dc21c-3006-432a-9800-a79ac63ea4f1",
   "metadata": {},
   "outputs": [
    {
     "name": "stderr",
     "output_type": "stream",
     "text": [
      "[nltk_data] Downloading package stopwords to\n",
      "[nltk_data]     C:\\Users\\canan\\AppData\\Roaming\\nltk_data...\n",
      "[nltk_data]   Package stopwords is already up-to-date!\n"
     ]
    },
    {
     "data": {
      "text/plain": [
       "True"
      ]
     },
     "execution_count": 18,
     "metadata": {},
     "output_type": "execute_result"
    }
   ],
   "source": [
    "import re\n",
    "import nltk\n",
    "from nltk.corpus import stopwords\n",
    "nltk.download('stopwords')"
   ]
  },
  {
   "cell_type": "code",
   "execution_count": 19,
   "id": "f51cc488-b193-4a2b-9b63-07163513e8b9",
   "metadata": {},
   "outputs": [],
   "source": [
    "from bs4 import BeautifulSoup"
   ]
  },
  {
   "cell_type": "code",
   "execution_count": 20,
   "id": "95a22f0e-aa71-49cc-8bef-9b2751a06322",
   "metadata": {},
   "outputs": [],
   "source": [
    "## Removing special characters\n",
    "df['yorum']=df['yorum'].apply(lambda x:re.sub('[^a-z A-z 0-9-]+', '',x))\n",
    "## Remove the stopswords\n",
    "df['yorum']=df['yorum'].apply(lambda x:\" \".join([y for y in x.split() if y not in stopwords.words('english')]))\n",
    "## Remove url \n",
    "df['yorum']=df['yorum'].apply(lambda x: re.sub(r'(http|https|ftp|ssh)://([\\w_-]+(?:(?:\\.[\\w_-]+)+))([\\w.,@?^=%&:/~+#-]*[\\w@?^=%&/~+#-])?', '' , str(x)))\n",
    "## Remove html tags\n",
    "df['yorum']=df['yorum'].apply(lambda x: BeautifulSoup(x, 'lxml').get_text())\n",
    "## Remove any additional spaces\n",
    "df['yorum']=df['yorum'].apply(lambda x: \" \".join(x.split()))"
   ]
  },
  {
   "cell_type": "code",
   "execution_count": 21,
   "id": "7fea54c9-d192-4d2d-91d3-1eb764ea4b0b",
   "metadata": {},
   "outputs": [
    {
     "data": {
      "text/html": [
       "<div>\n",
       "<style scoped>\n",
       "    .dataframe tbody tr th:only-of-type {\n",
       "        vertical-align: middle;\n",
       "    }\n",
       "\n",
       "    .dataframe tbody tr th {\n",
       "        vertical-align: top;\n",
       "    }\n",
       "\n",
       "    .dataframe thead th {\n",
       "        text-align: right;\n",
       "    }\n",
       "</style>\n",
       "<table border=\"1\" class=\"dataframe\">\n",
       "  <thead>\n",
       "    <tr style=\"text-align: right;\">\n",
       "      <th></th>\n",
       "      <th>yorum</th>\n",
       "      <th>hiz</th>\n",
       "      <th>servis</th>\n",
       "      <th>lezzet</th>\n",
       "    </tr>\n",
       "  </thead>\n",
       "  <tbody>\n",
       "    <tr>\n",
       "      <th>0</th>\n",
       "      <td>Enfes tat</td>\n",
       "      <td>1</td>\n",
       "      <td>1</td>\n",
       "      <td>1</td>\n",
       "    </tr>\n",
       "    <tr>\n",
       "      <th>1</th>\n",
       "      <td>Herey harikayd ok beendik</td>\n",
       "      <td>1</td>\n",
       "      <td>1</td>\n",
       "      <td>1</td>\n",
       "    </tr>\n",
       "    <tr>\n",
       "      <th>2</th>\n",
       "      <td>Wonton orbasn ar beendik tavsiye ederim</td>\n",
       "      <td>1</td>\n",
       "      <td>1</td>\n",
       "      <td>1</td>\n",
       "    </tr>\n",
       "    <tr>\n",
       "      <th>3</th>\n",
       "      <td>Soya sosu konulmamst</td>\n",
       "      <td>1</td>\n",
       "      <td>0</td>\n",
       "      <td>0</td>\n",
       "    </tr>\n",
       "    <tr>\n",
       "      <th>4</th>\n",
       "      <td>Et yok gibi biseydi</td>\n",
       "      <td>1</td>\n",
       "      <td>1</td>\n",
       "      <td>0</td>\n",
       "    </tr>\n",
       "  </tbody>\n",
       "</table>\n",
       "</div>"
      ],
      "text/plain": [
       "                                     yorum  hiz  servis  lezzet\n",
       "0                                Enfes tat    1       1       1\n",
       "1                Herey harikayd ok beendik    1       1       1\n",
       "2  Wonton orbasn ar beendik tavsiye ederim    1       1       1\n",
       "3                     Soya sosu konulmamst    1       0       0\n",
       "4                      Et yok gibi biseydi    1       1       0"
      ]
     },
     "execution_count": 21,
     "metadata": {},
     "output_type": "execute_result"
    }
   ],
   "source": [
    "df.head()"
   ]
  },
  {
   "cell_type": "code",
   "execution_count": 22,
   "id": "8deaba55-1968-461c-9d67-9d5d53eba1bf",
   "metadata": {},
   "outputs": [
    {
     "name": "stderr",
     "output_type": "stream",
     "text": [
      "[nltk_data] Downloading package wordnet to\n",
      "[nltk_data]     C:\\Users\\canan\\AppData\\Roaming\\nltk_data...\n",
      "[nltk_data]   Package wordnet is already up-to-date!\n"
     ]
    },
    {
     "data": {
      "text/plain": [
       "True"
      ]
     },
     "execution_count": 22,
     "metadata": {},
     "output_type": "execute_result"
    }
   ],
   "source": [
    "import nltk\n",
    "nltk.download('wordnet')"
   ]
  },
  {
   "cell_type": "code",
   "execution_count": 23,
   "id": "d63570e5-c04c-4794-bbd6-0ae0cc6900f2",
   "metadata": {},
   "outputs": [],
   "source": [
    "from nltk.stem import WordNetLemmatizer"
   ]
  },
  {
   "cell_type": "code",
   "execution_count": 24,
   "id": "812588eb-f003-485f-a031-16ee9f2381b5",
   "metadata": {},
   "outputs": [],
   "source": [
    "lemmatizer=WordNetLemmatizer()"
   ]
  },
  {
   "cell_type": "code",
   "execution_count": 25,
   "id": "b6ef1103-fdcb-4a60-9133-d737a5d5015a",
   "metadata": {},
   "outputs": [],
   "source": [
    "def lemmatize_words(text):\n",
    "    return \" \".join([lemmatizer.lemmatize(word) for word in text.split()])"
   ]
  },
  {
   "cell_type": "code",
   "execution_count": 26,
   "id": "3a71e6c3-473e-4854-9b89-22476f8b6ebc",
   "metadata": {},
   "outputs": [],
   "source": [
    "df['yorum']=df['yorum'].apply(lambda x:lemmatize_words(x))\n"
   ]
  },
  {
   "cell_type": "code",
   "execution_count": 27,
   "id": "6771d210-736b-453e-a294-86c7e3a90ae8",
   "metadata": {},
   "outputs": [
    {
     "data": {
      "text/html": [
       "<div>\n",
       "<style scoped>\n",
       "    .dataframe tbody tr th:only-of-type {\n",
       "        vertical-align: middle;\n",
       "    }\n",
       "\n",
       "    .dataframe tbody tr th {\n",
       "        vertical-align: top;\n",
       "    }\n",
       "\n",
       "    .dataframe thead th {\n",
       "        text-align: right;\n",
       "    }\n",
       "</style>\n",
       "<table border=\"1\" class=\"dataframe\">\n",
       "  <thead>\n",
       "    <tr style=\"text-align: right;\">\n",
       "      <th></th>\n",
       "      <th>yorum</th>\n",
       "      <th>hiz</th>\n",
       "      <th>servis</th>\n",
       "      <th>lezzet</th>\n",
       "    </tr>\n",
       "  </thead>\n",
       "  <tbody>\n",
       "    <tr>\n",
       "      <th>0</th>\n",
       "      <td>Enfes tat</td>\n",
       "      <td>1</td>\n",
       "      <td>1</td>\n",
       "      <td>1</td>\n",
       "    </tr>\n",
       "    <tr>\n",
       "      <th>1</th>\n",
       "      <td>Herey harikayd ok beendik</td>\n",
       "      <td>1</td>\n",
       "      <td>1</td>\n",
       "      <td>1</td>\n",
       "    </tr>\n",
       "    <tr>\n",
       "      <th>2</th>\n",
       "      <td>Wonton orbasn ar beendik tavsiye ederim</td>\n",
       "      <td>1</td>\n",
       "      <td>1</td>\n",
       "      <td>1</td>\n",
       "    </tr>\n",
       "    <tr>\n",
       "      <th>3</th>\n",
       "      <td>Soya sosu konulmamst</td>\n",
       "      <td>1</td>\n",
       "      <td>0</td>\n",
       "      <td>0</td>\n",
       "    </tr>\n",
       "    <tr>\n",
       "      <th>4</th>\n",
       "      <td>Et yok gibi biseydi</td>\n",
       "      <td>1</td>\n",
       "      <td>1</td>\n",
       "      <td>0</td>\n",
       "    </tr>\n",
       "  </tbody>\n",
       "</table>\n",
       "</div>"
      ],
      "text/plain": [
       "                                     yorum  hiz  servis  lezzet\n",
       "0                                Enfes tat    1       1       1\n",
       "1                Herey harikayd ok beendik    1       1       1\n",
       "2  Wonton orbasn ar beendik tavsiye ederim    1       1       1\n",
       "3                     Soya sosu konulmamst    1       0       0\n",
       "4                      Et yok gibi biseydi    1       1       0"
      ]
     },
     "execution_count": 27,
     "metadata": {},
     "output_type": "execute_result"
    }
   ],
   "source": [
    "df.head()"
   ]
  },
  {
   "cell_type": "code",
   "execution_count": 28,
   "id": "8895ee45-a3d5-4708-806f-1e27252fef1e",
   "metadata": {},
   "outputs": [],
   "source": [
    "## Train Test Split\n",
    "from sklearn.model_selection import train_test_split\n",
    "X_train,X_test,y_train,y_test=train_test_split(df['yorum'],df['hiz'],\n",
    "                                              test_size=0.20)\n",
    "from sklearn.feature_extraction.text import CountVectorizer\n",
    "bow=CountVectorizer()\n",
    "X_train_bow=bow.fit_transform(X_train).toarray()\n",
    "X_test_bow=bow.transform(X_test).toarray()\n",
    "from sklearn.feature_extraction.text import TfidfVectorizer\n",
    "tfidf=TfidfVectorizer()\n",
    "X_train_tfidf=tfidf.fit_transform(X_train).toarray()\n",
    "X_test_tfidf=tfidf.transform(X_test).toarray()\n"
   ]
  },
  {
   "cell_type": "code",
   "execution_count": 29,
   "id": "a22d5737-a119-4bed-abcc-cd291ce3b217",
   "metadata": {},
   "outputs": [
    {
     "data": {
      "text/plain": [
       "array([[0, 0, 0, ..., 0, 0, 0],\n",
       "       [0, 0, 0, ..., 0, 0, 0],\n",
       "       [0, 0, 0, ..., 0, 0, 0],\n",
       "       ...,\n",
       "       [0, 0, 0, ..., 0, 0, 0],\n",
       "       [0, 0, 0, ..., 0, 0, 0],\n",
       "       [0, 0, 0, ..., 0, 0, 0]], shape=(19922, 17794))"
      ]
     },
     "execution_count": 29,
     "metadata": {},
     "output_type": "execute_result"
    }
   ],
   "source": [
    "from sklearn.model_selection import train_test_split\n",
    "X_train,X_test,y_train,y_test=train_test_split(df['yorum'],df['lezzet'],\n",
    "                                              test_size=0.20)\n",
    "from sklearn.feature_extraction.text import CountVectorizer\n",
    "bow=CountVectorizer()\n",
    "X_train_bow=bow.fit_transform(X_train).toarray()\n",
    "X_test_bow=bow.transform(X_test).toarray()\n",
    "from sklearn.feature_extraction.text import TfidfVectorizer\n",
    "tfidf=TfidfVectorizer()\n",
    "X_train_tfidf=tfidf.fit_transform(X_train).toarray()\n",
    "X_test_tfidf=tfidf.transform(X_test).toarray()\n",
    "X_train_bow"
   ]
  },
  {
   "cell_type": "code",
   "execution_count": 30,
   "id": "f75d1a72-6aa0-4e2d-9fb5-12ce7f4d1516",
   "metadata": {},
   "outputs": [
    {
     "data": {
      "text/plain": [
       "array([[0, 0, 0, ..., 0, 0, 0],\n",
       "       [0, 0, 0, ..., 0, 0, 0],\n",
       "       [0, 0, 0, ..., 0, 0, 0],\n",
       "       ...,\n",
       "       [0, 0, 0, ..., 0, 0, 0],\n",
       "       [0, 0, 0, ..., 0, 0, 0],\n",
       "       [0, 0, 0, ..., 0, 0, 0]], shape=(19922, 17980))"
      ]
     },
     "execution_count": 30,
     "metadata": {},
     "output_type": "execute_result"
    }
   ],
   "source": [
    "X_train,X_test,y_train,y_test=train_test_split(df['yorum'],df['servis'],\n",
    "                                              test_size=0.20)\n",
    "bow=CountVectorizer()\n",
    "X_train_bow=bow.fit_transform(X_train).toarray()\n",
    "X_test_bow=bow.transform(X_test).toarray()\n",
    "from sklearn.feature_extraction.text import TfidfVectorizer\n",
    "tfidf=TfidfVectorizer()\n",
    "X_train_tfidf=tfidf.fit_transform(X_train).toarray()\n",
    "X_test_tfidf=tfidf.transform(X_test).toarray()\n",
    "X_train_bow"
   ]
  },
  {
   "cell_type": "code",
   "execution_count": 31,
   "id": "a9062ae0-fe66-40e0-b183-02d6fa8c3b3a",
   "metadata": {},
   "outputs": [],
   "source": [
    "from sklearn.naive_bayes import GaussianNB\n",
    "nb_model_bow=GaussianNB().fit(X_train_bow,y_train)\n",
    "nb_model_tfidf=GaussianNB().fit(X_train_tfidf,y_train)"
   ]
  },
  {
   "cell_type": "code",
   "execution_count": 32,
   "id": "9d486b04-9e31-4cac-9ecc-9f646d66af45",
   "metadata": {},
   "outputs": [
    {
     "data": {
      "text/plain": [
       "array([[ 244,   99],\n",
       "       [1268, 3370]])"
      ]
     },
     "execution_count": 32,
     "metadata": {},
     "output_type": "execute_result"
    }
   ],
   "source": [
    "from sklearn.metrics import confusion_matrix,accuracy_score,classification_report\n",
    "y_pred_bow=nb_model_bow.predict(X_test_bow)\n",
    "y_pred_tfidf=nb_model_bow.predict(X_test_tfidf)\n",
    "confusion_matrix(y_test,y_pred_bow)"
   ]
  },
  {
   "cell_type": "code",
   "execution_count": 33,
   "id": "0a841607-4cd4-4911-a3ac-ce91d9f32369",
   "metadata": {},
   "outputs": [
    {
     "name": "stdout",
     "output_type": "stream",
     "text": [
      "BOW accuracy:  0.7255571170447701\n"
     ]
    }
   ],
   "source": [
    "print(\"BOW accuracy: \",accuracy_score(y_test,y_pred_bow))"
   ]
  },
  {
   "cell_type": "code",
   "execution_count": 34,
   "id": "0d06e5c8-cea5-4ac9-bf26-a9899e5a0db2",
   "metadata": {},
   "outputs": [
    {
     "data": {
      "text/plain": [
       "array([[ 243,  100],\n",
       "       [1270, 3368]])"
      ]
     },
     "execution_count": 34,
     "metadata": {},
     "output_type": "execute_result"
    }
   ],
   "source": [
    "confusion_matrix(y_test,y_pred_tfidf)"
   ]
  },
  {
   "cell_type": "code",
   "execution_count": 35,
   "id": "72e6fc77-22f8-4ece-948a-baabe6267cc8",
   "metadata": {},
   "outputs": [
    {
     "name": "stdout",
     "output_type": "stream",
     "text": [
      "TFIDF accuracy:  0.7249548283477213\n"
     ]
    }
   ],
   "source": [
    "print(\"TFIDF accuracy: \",accuracy_score(y_test,y_pred_tfidf))"
   ]
  },
  {
   "cell_type": "code",
   "execution_count": 36,
   "id": "417ca9b8-a0c3-4193-9b88-341cb12b034b",
   "metadata": {},
   "outputs": [
    {
     "name": "stdout",
     "output_type": "stream",
     "text": [
      "              precision    recall  f1-score   support\n",
      "\n",
      "           0       0.16      0.71      0.26       343\n",
      "           1       0.97      0.73      0.83      4638\n",
      "\n",
      "    accuracy                           0.72      4981\n",
      "   macro avg       0.57      0.72      0.55      4981\n",
      "weighted avg       0.92      0.72      0.79      4981\n",
      "\n"
     ]
    }
   ],
   "source": [
    "print(classification_report(y_test,y_pred_tfidf))"
   ]
  },
  {
   "cell_type": "code",
   "execution_count": 37,
   "id": "a1863091-39b5-4e91-96f6-fb4c9b00055e",
   "metadata": {},
   "outputs": [
    {
     "data": {
      "image/png": "[encoded data removed]",
      "text/plain": [
       "<Figure size 640x480 with 2 Axes>"
      ]
     },
     "metadata": {},
     "output_type": "display_data"
    }
   ],
   "source": [
    "import matplotlib.pyplot as plt\n",
    "import seaborn as sns\n",
    "from sklearn.metrics import confusion_matrix\n",
    "\n",
    "# Confusion matrix\n",
    "cm = confusion_matrix(y_test, y_pred_tfidf)\n",
    "\n",
    "# Confusion matrix'i görselleştir\n",
    "sns.heatmap(cm, annot=True, fmt='d', cmap='Blues', xticklabels=[\"Negatif\", \"Pozitif\"], yticklabels=[\"Negatif\", \"Pozitif\"])\n",
    "plt.xlabel('Tahmin Edilen')\n",
    "plt.ylabel('Gerçek')\n",
    "plt.title('Confusion Matrix')\n",
    "plt.show()\n"
   ]
  },
  {
   "cell_type": "code",
   "execution_count": null,
   "id": "5c309b64-f5c4-4399-83ba-8ccfc3757a1b",
   "metadata": {},
   "outputs": [],
   "source": []
  },
  {
   "cell_type": "code",
   "execution_count": null,
   "id": "5e17bb67-4e6f-4c34-8302-7cd5ab1bce3d",
   "metadata": {},
   "outputs": [],
   "source": []
  }
 ],
 "metadata": {
  "kernelspec": {
   "display_name": "Python 3 (ipykernel)",
   "language": "python",
   "name": "python3"
  },
  "language_info": {
   "codemirror_mode": {
    "name": "ipython",
    "version": 3
   },
   "file_extension": ".py",
   "mimetype": "text/x-python",
   "name": "python",
   "nbconvert_exporter": "python",
   "pygments_lexer": "ipython3",
   "version": "3.13.1"
  }
 },
 "nbformat": 4,
 "nbformat_minor": 5
}
